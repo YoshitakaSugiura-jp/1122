{
 "cells": [
  {
   "cell_type": "code",
   "execution_count": 2,
   "metadata": {},
   "outputs": [
    {
     "name": "stdout",
     "output_type": "stream",
     "text": [
      "\u001b[1mDataFrameRow\u001b[0m\n",
      "\u001b[1m Row \u001b[0m│\u001b[1m reserve_id \u001b[0m\u001b[1m hotel_id \u001b[0m\u001b[1m customer_id \u001b[0m\u001b[1m reserve_datetime    \u001b[0m\u001b[1m checkin_date \u001b[0m\u001b[1m checkin_time \u001b[0m\u001b[1m checkout_date \u001b[0m\u001b[1m people_num \u001b[0m\u001b[1m total_price \u001b[0m\n",
      "     │\u001b[90m String7    \u001b[0m\u001b[90m String7  \u001b[0m\u001b[90m String7     \u001b[0m\u001b[90m String31            \u001b[0m\u001b[90m Dates.Date   \u001b[0m\u001b[90m Dates.Time   \u001b[0m\u001b[90m Dates.Date    \u001b[0m\u001b[90m Int64      \u001b[0m\u001b[90m Int64       \u001b[0m\n",
      "─────┼────────────────────────────────────────────────────────────────────────────────────────────────────────────────────────────\n",
      "   1 │ r1          h_75      c_1          2016-03-06 13:09:42  2016-03-26    10:00:00      2016-03-29              4        97200\n"
     ]
    }
   ],
   "source": [
    "using DataFrames,CSV,Chain,Downloads\n",
    "reserve_url = \"https://raw.githubusercontent.com/hanafsky/awesomebook/master/data/reserve.csv\"\n",
    "reserve_df = @chain reserve_url begin\n",
    "  Downloads.download(IOBuffer())\n",
    "  String(take!(_))\n",
    "  CSV.read(IOBuffer(_),DataFrame)\n",
    "end\n",
    "println(first(reserve_df));"
   ]
  },
  {
   "cell_type": "markdown",
   "metadata": {},
   "source": [
    "# jjjj\n",
    "## hhhhhh\n",
    "fdddddd\n",
    "\n",
    "\n",
    "fffff"
   ]
  }
 ],
 "metadata": {
  "kernelspec": {
   "display_name": "Julia 1.11.0",
   "language": "julia",
   "name": "julia-1.11"
  },
  "language_info": {
   "file_extension": ".jl",
   "mimetype": "application/julia",
   "name": "julia",
   "version": "1.11.0"
  }
 },
 "nbformat": 4,
 "nbformat_minor": 2
}
